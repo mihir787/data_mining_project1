{
 "cells": [
  {
   "cell_type": "code",
   "execution_count": null,
   "metadata": {
    "collapsed": true
   },
   "outputs": [],
   "source": []
  },
  {
   "cell_type": "code",
   "execution_count": 17,
   "metadata": {
    "scrolled": true
   },
   "outputs": [],
   "source": [
    "import numpy as np\n",
    "import pandas as pd\n",
    "#import pandas_profiling\n",
    "import statistics\n",
    "import seaborn as sns\n",
    "import math\n",
    "\n",
    "# this python magics will allow plot to be embedded into the notebook\n",
    "\n",
    "import matplotlib.pyplot as plt\n",
    "import warnings\n",
    "warnings.simplefilter('ignore', DeprecationWarning)\n",
    "%matplotlib inline\n",
    "\n",
    "import time\n",
    "from sklearn.preprocessing import Imputer\n",
    "\n",
    "pd.set_option('display.max_columns', 150)"
   ]
  },
  {
   "cell_type": "code",
   "execution_count": 3,
   "metadata": {},
   "outputs": [],
   "source": [
    "df = pd.read_csv('application_train.csv')"
   ]
  },
  {
   "cell_type": "markdown",
   "metadata": {},
   "source": [
    "# Business Understanding\n",
    "\n",
    "In the money lending industry one key question persists - will money borrowers be able to pay back what they borrowed?\n",
    "\n",
    "Home Credit, a financial services company wants the Kaggle community to help them accurately answer this business problem using machine learning. Their primary goal is to extend safe and smooth lending services to people who have sparse credit histories or who have been unable to open traditional banking accounts. \n",
    "\n",
    "For new borrowers, data such as  FICO credit score of the borrower, number of days the borrower has had a credit line and borrower’s number of inquiries by creditors in the last 6 months cannot be used to determine loan eligibilty. Non-traditional data on the borrowers will be ideal in this case. Home Credit has provided such a data set wih non-traditonal data points in the data set __application_train/application_test.csv__. This data set also denotes whether the borrower had difficulty making the initial payments on their loans.\n",
    "\n",
    "With this data set our team will attempt to use supervised learning to predict whether a borrower is likely to pay back money borrowed. The ability to accurately predict the risk of the borrower will be valuable to Home Credit to make better decisions about whether to lend any money at all - or perhaps at a lower amount or different repayment structure. "
   ]
  },
  {
   "cell_type": "markdown",
   "metadata": {},
   "source": [
    "# Data Meaning Type\n",
    "In this section we will provide a brief description of each attribute and it corresponding datatype."
   ]
  },
  {
   "cell_type": "code",
   "execution_count": null,
   "metadata": {},
   "outputs": [],
   "source": [
    "df.head()"
   ]
  },
  {
   "cell_type": "code",
   "execution_count": 44,
   "metadata": {},
   "outputs": [
    {
     "data": {
      "text/plain": [
       "(307511, 60)"
      ]
     },
     "execution_count": 44,
     "metadata": {},
     "output_type": "execute_result"
    }
   ],
   "source": [
    "df.shape"
   ]
  },
  {
   "cell_type": "code",
   "execution_count": null,
   "metadata": {},
   "outputs": [],
   "source": [
    "pd.set_option('display.max_row', 1000)\n",
    "df.dtypes"
   ]
  },
  {
   "cell_type": "markdown",
   "metadata": {},
   "source": [
    "There are three unique data types present in this dataset:\n",
    "1. Object - Represents categorical data. Ex \"Cash loan\"\n",
    "2. Int64 - Represents whole number counts for non continuous values. Ex \"Number of Children\" or Binary (0 and 1)\n",
    "3. Float64 - Represents contiuous values. Ex. \"Amount of Annuity\""
   ]
  },
  {
   "cell_type": "code",
   "execution_count": null,
   "metadata": {},
   "outputs": [],
   "source": [
    "# Summary of object type columns\n",
    "object_df = df.select_dtypes(include=['object'])\n",
    "\n",
    "data = []\n",
    "for col in object_df:\n",
    "    unique_array = object_df[col].unique()\n",
    "    data.append({'column_name': col, 'value_count': len(unique_array), 'values': unique_array})\n",
    "\n",
    "object_df = pd.DataFrame(data)\n",
    "object_df.style.set_properties(subset=['values'], **{'width': '700px'})"
   ]
  },
  {
   "cell_type": "markdown",
   "metadata": {},
   "source": [
    "Above is a breakdown of the Object type columns. Each print output dispalys the column name, the unique values, and the number of unique values."
   ]
  },
  {
   "cell_type": "code",
   "execution_count": null,
   "metadata": {},
   "outputs": [],
   "source": [
    "#Summary of int64 type columns\n",
    "object_df = df.select_dtypes(include=['int64'])\n",
    "\n",
    "object_df.describe().round(1)"
   ]
  },
  {
   "cell_type": "markdown",
   "metadata": {},
   "source": [
    "Above is a breakdown of summary statistics for Int64 type columns."
   ]
  },
  {
   "cell_type": "code",
   "execution_count": null,
   "metadata": {
    "scrolled": true
   },
   "outputs": [],
   "source": [
    "#Summary of float64 type columns\n",
    "object_df = df.select_dtypes(include=['float64'])\n",
    "\n",
    "object_df.describe().round(0)"
   ]
  },
  {
   "cell_type": "markdown",
   "metadata": {},
   "source": [
    "Above is a breakdown of summary statistics for Float64 type columns."
   ]
  },
  {
   "cell_type": "markdown",
   "metadata": {},
   "source": [
    "# Data Quality\n",
    "\n",
    "This section will highlight any issues that were discovered with the data and the approach that was taken to address those issues. Since there are 122 columns in the dataset we wanted carefully assess whether each column is needed. There were three main issues in the dataset that required cleanup: highly correlated columns, columns with missing values (9.6% of the dataset had missing values), and columns with NA values. Each of these will be addressed in more detail."
   ]
  },
  {
   "cell_type": "code",
   "execution_count": null,
   "metadata": {},
   "outputs": [],
   "source": [
    "# Write Data Profiling File\n",
    "\n",
    "profile = pandas_profiling.ProfileReport(df)\n",
    "profile.to_file(outputfile=\"profile_report.html\")\n",
    "profile"
   ]
  },
  {
   "cell_type": "markdown",
   "metadata": {},
   "source": [
    "#### Highly Correlated Columns\n",
    "\n",
    "Often times input features are correlated, meaning that they depend on each another and carry similar meaning. Thus removing one of those features does not impact the ability to perform analysis. In fact, it ususally helps reduce over inflation of standard errors which increases the likelyhood of including variables in a model where they would be excluded."
   ]
  },
  {
   "cell_type": "code",
   "execution_count": 4,
   "metadata": {},
   "outputs": [
    {
     "name": "stdout",
     "output_type": "stream",
     "text": [
      "   column_name_that_will_be_dropped\n",
      "0                   AMT_GOODS_PRICE\n",
      "1                   APARTMENTS_MEDI\n",
      "2                   APARTMENTS_MODE\n",
      "3                 BASEMENTAREA_MEDI\n",
      "4                 BASEMENTAREA_MODE\n",
      "5                   COMMONAREA_MEDI\n",
      "6                   COMMONAREA_MODE\n",
      "7                    ELEVATORS_MEDI\n",
      "8                    ELEVATORS_MODE\n",
      "9                    ENTRANCES_MEDI\n",
      "10                   ENTRANCES_MODE\n",
      "11                 FLAG_DOCUMENT_10\n",
      "12                 FLAG_DOCUMENT_12\n",
      "13                 FLAG_DOCUMENT_13\n",
      "14                 FLAG_DOCUMENT_14\n",
      "15                 FLAG_DOCUMENT_15\n",
      "16                 FLAG_DOCUMENT_16\n",
      "17                 FLAG_DOCUMENT_17\n",
      "18                 FLAG_DOCUMENT_19\n",
      "19                  FLAG_DOCUMENT_2\n",
      "20                 FLAG_DOCUMENT_20\n",
      "21                 FLAG_DOCUMENT_21\n",
      "22                   FLOORSMAX_MEDI\n",
      "23                   FLOORSMAX_MODE\n",
      "24                   FLOORSMIN_MEDI\n",
      "25                   FLOORSMIN_MODE\n",
      "26                    LANDAREA_MEDI\n",
      "27                    LANDAREA_MODE\n",
      "28             LIVINGAPARTMENTS_AVG\n",
      "29            LIVINGAPARTMENTS_MEDI\n",
      "30            LIVINGAPARTMENTS_MODE\n",
      "31                   LIVINGAREA_AVG\n",
      "32                  LIVINGAREA_MEDI\n",
      "33                  LIVINGAREA_MODE\n",
      "34         NONLIVINGAPARTMENTS_MEDI\n",
      "35         NONLIVINGAPARTMENTS_MODE\n",
      "36               NONLIVINGAREA_MEDI\n",
      "37               NONLIVINGAREA_MODE\n",
      "38         OBS_60_CNT_SOCIAL_CIRCLE\n",
      "39      REGION_RATING_CLIENT_W_CITY\n",
      "40                   TOTALAREA_MODE\n",
      "41     YEARS_BEGINEXPLUATATION_MEDI\n",
      "42     YEARS_BEGINEXPLUATATION_MODE\n",
      "43                 YEARS_BUILD_MEDI\n",
      "44                 YEARS_BUILD_MODE\n"
     ]
    }
   ],
   "source": [
    "# drop all columns that pandas profiling indicates that should be removed because of correlation.\n",
    "columns_to_drop=['AMT_GOODS_PRICE','APARTMENTS_MEDI','APARTMENTS_MODE','BASEMENTAREA_MEDI','BASEMENTAREA_MODE','COMMONAREA_MEDI','COMMONAREA_MODE','ELEVATORS_MEDI','ELEVATORS_MODE','ENTRANCES_MEDI','ENTRANCES_MODE','FLAG_DOCUMENT_10','FLAG_DOCUMENT_12','FLAG_DOCUMENT_13','FLAG_DOCUMENT_14','FLAG_DOCUMENT_15','FLAG_DOCUMENT_16','FLAG_DOCUMENT_17','FLAG_DOCUMENT_19','FLAG_DOCUMENT_2','FLAG_DOCUMENT_20','FLAG_DOCUMENT_21','FLOORSMAX_MEDI','FLOORSMAX_MODE','FLOORSMIN_MEDI','FLOORSMIN_MODE','LANDAREA_MEDI','LANDAREA_MODE','LIVINGAPARTMENTS_AVG','LIVINGAPARTMENTS_MEDI','LIVINGAPARTMENTS_MODE','LIVINGAREA_AVG','LIVINGAREA_MEDI','LIVINGAREA_MODE','NONLIVINGAPARTMENTS_MEDI','NONLIVINGAPARTMENTS_MODE','NONLIVINGAREA_MEDI','NONLIVINGAREA_MODE','OBS_60_CNT_SOCIAL_CIRCLE','REGION_RATING_CLIENT_W_CITY','TOTALAREA_MODE','YEARS_BEGINEXPLUATATION_MEDI','YEARS_BEGINEXPLUATATION_MODE','YEARS_BUILD_MEDI','YEARS_BUILD_MODE']\n",
    "drop_columns_df = pd.DataFrame({'column_name_that_will_be_dropped': columns_to_drop})\n",
    "print (drop_columns_df)\n",
    "df = df.drop(columns_to_drop, axis=1)"
   ]
  },
  {
   "cell_type": "markdown",
   "metadata": {},
   "source": [
    "After reviewing the pearson correlation values and recommendations from the profiling report, we decided to remove those variables with a high degree of correlation. Fourty-five columns with >.9 correlation values were removed from the dataset. This reduction helps reduce some of the complexity without greatly impacting the modeling ability."
   ]
  },
  {
   "cell_type": "markdown",
   "metadata": {},
   "source": [
    "### Handling Columns with Lots of Missing Values"
   ]
  },
  {
   "cell_type": "code",
   "execution_count": 5,
   "metadata": {
    "collapsed": true
   },
   "outputs": [],
   "source": [
    "# Function that finds missing values:\n",
    "def num_missing(x):\n",
    "  return sum(x.isnull())"
   ]
  },
  {
   "cell_type": "code",
   "execution_count": 6,
   "metadata": {},
   "outputs": [
    {
     "name": "stdout",
     "output_type": "stream",
     "text": [
      "Missing values per column:\n",
      "SK_ID_CURR                         0\n",
      "TARGET                             0\n",
      "NAME_CONTRACT_TYPE                 0\n",
      "CODE_GENDER                        0\n",
      "FLAG_OWN_CAR                       0\n",
      "FLAG_OWN_REALTY                    0\n",
      "CNT_CHILDREN                       0\n",
      "AMT_INCOME_TOTAL                   0\n",
      "AMT_CREDIT                         0\n",
      "AMT_ANNUITY                       12\n",
      "NAME_TYPE_SUITE                 1292\n",
      "NAME_INCOME_TYPE                   0\n",
      "NAME_EDUCATION_TYPE                0\n",
      "NAME_FAMILY_STATUS                 0\n",
      "NAME_HOUSING_TYPE                  0\n",
      "REGION_POPULATION_RELATIVE         0\n",
      "DAYS_BIRTH                         0\n",
      "DAYS_EMPLOYED                      0\n",
      "DAYS_REGISTRATION                  0\n",
      "DAYS_ID_PUBLISH                    0\n",
      "OWN_CAR_AGE                   202929\n",
      "FLAG_MOBIL                         0\n",
      "FLAG_EMP_PHONE                     0\n",
      "FLAG_WORK_PHONE                    0\n",
      "FLAG_CONT_MOBILE                   0\n",
      "FLAG_PHONE                         0\n",
      "FLAG_EMAIL                         0\n",
      "OCCUPATION_TYPE                96391\n",
      "CNT_FAM_MEMBERS                    2\n",
      "REGION_RATING_CLIENT               0\n",
      "                               ...  \n",
      "ELEVATORS_AVG                 163891\n",
      "ENTRANCES_AVG                 154828\n",
      "FLOORSMAX_AVG                 153020\n",
      "FLOORSMIN_AVG                 208642\n",
      "LANDAREA_AVG                  182590\n",
      "NONLIVINGAPARTMENTS_AVG       213514\n",
      "NONLIVINGAREA_AVG             169682\n",
      "FONDKAPREMONT_MODE            210295\n",
      "HOUSETYPE_MODE                154297\n",
      "WALLSMATERIAL_MODE            156341\n",
      "EMERGENCYSTATE_MODE           145755\n",
      "OBS_30_CNT_SOCIAL_CIRCLE        1021\n",
      "DEF_30_CNT_SOCIAL_CIRCLE        1021\n",
      "DEF_60_CNT_SOCIAL_CIRCLE        1021\n",
      "DAYS_LAST_PHONE_CHANGE             1\n",
      "FLAG_DOCUMENT_3                    0\n",
      "FLAG_DOCUMENT_4                    0\n",
      "FLAG_DOCUMENT_5                    0\n",
      "FLAG_DOCUMENT_6                    0\n",
      "FLAG_DOCUMENT_7                    0\n",
      "FLAG_DOCUMENT_8                    0\n",
      "FLAG_DOCUMENT_9                    0\n",
      "FLAG_DOCUMENT_11                   0\n",
      "FLAG_DOCUMENT_18                   0\n",
      "AMT_REQ_CREDIT_BUREAU_HOUR     41519\n",
      "AMT_REQ_CREDIT_BUREAU_DAY      41519\n",
      "AMT_REQ_CREDIT_BUREAU_WEEK     41519\n",
      "AMT_REQ_CREDIT_BUREAU_MON      41519\n",
      "AMT_REQ_CREDIT_BUREAU_QRT      41519\n",
      "AMT_REQ_CREDIT_BUREAU_YEAR     41519\n",
      "Length: 77, dtype: int64\n"
     ]
    }
   ],
   "source": [
    "# Applying for missing columns:\n",
    "print(\"Missing values per column:\")\n",
    "print(df.apply(num_missing, axis=0))"
   ]
  },
  {
   "cell_type": "code",
   "execution_count": 7,
   "metadata": {},
   "outputs": [
    {
     "name": "stdout",
     "output_type": "stream",
     "text": [
      "   column_name_that_will_be_dropped\n",
      "0                       OWN_CAR_AGE\n",
      "1                     ELEVATORS_AVG\n",
      "2                     ENTRANCES_AVG\n",
      "3                     FLOORSMAX_AVG\n",
      "4                     FLOORSMIN_AVG\n",
      "5                      LANDAREA_AVG\n",
      "6           NONLIVINGAPARTMENTS_AVG\n",
      "7                 NONLIVINGAREA_AVG\n",
      "8                FONDKAPREMONT_MODE\n",
      "9                    HOUSETYPE_MODE\n",
      "10               WALLSMATERIAL_MODE\n",
      "11              EMERGENCYSTATE_MODE\n",
      "12                     EXT_SOURCE_1\n",
      "13                   APARTMENTS_AVG\n",
      "14                 BASEMENTAREA_AVG\n",
      "15      YEARS_BEGINEXPLUATATION_AVG\n",
      "16                  YEARS_BUILD_AVG\n",
      "17                   COMMONAREA_AVG\n"
     ]
    }
   ],
   "source": [
    "# Drop columns with large numbers of missing values. These potentially could be interpreted together and combinded into\n",
    "# columns that may have meaning. However that may introduce a lot more complexity and for now we have made the decisison\n",
    "# to drop them. All columns here have more than 100,000 missing values.\n",
    "lots_of_missing_values = ['OWN_CAR_AGE', 'ELEVATORS_AVG', 'ENTRANCES_AVG', 'FLOORSMAX_AVG', 'FLOORSMIN_AVG', \n",
    "                        'LANDAREA_AVG', 'NONLIVINGAPARTMENTS_AVG', 'NONLIVINGAREA_AVG', 'FONDKAPREMONT_MODE',\n",
    "                        'HOUSETYPE_MODE', 'WALLSMATERIAL_MODE', 'EMERGENCYSTATE_MODE', 'EXT_SOURCE_1',\n",
    "                        'APARTMENTS_AVG', 'BASEMENTAREA_AVG', 'YEARS_BEGINEXPLUATATION_AVG', 'YEARS_BUILD_AVG',\n",
    "                        'COMMONAREA_AVG']\n",
    "lots_of_missing_values_df = pd.DataFrame({'column_name_that_will_be_dropped': lots_of_missing_values})\n",
    "print (lots_of_missing_values_df)\n",
    "df = df.drop(lots_of_missing_values, axis=1)"
   ]
  },
  {
   "cell_type": "markdown",
   "metadata": {},
   "source": [
    "Removed columns with >100,000 missing values. The reason this was done instead of setting a value for missing is that it would greatly skew the meaning of these factors. For example, OWN_CAR_AGE of missing could imply that it was never collected or it could imply that the person did not have a car. These sorts of decisions are difficult to make and since there are lots of columns in this dataset we decided to remove them for now. In the future, we may impute these values or create new columns that may better represent the data."
   ]
  },
  {
   "cell_type": "markdown",
   "metadata": {},
   "source": [
    "#### Imputing Missing Values"
   ]
  },
  {
   "cell_type": "code",
   "execution_count": 8,
   "metadata": {},
   "outputs": [
    {
     "name": "stdout",
     "output_type": "stream",
     "text": [
      "Missing values per column:\n",
      "SK_ID_CURR                         0\n",
      "TARGET                             0\n",
      "NAME_CONTRACT_TYPE                 0\n",
      "CODE_GENDER                        0\n",
      "FLAG_OWN_CAR                       0\n",
      "FLAG_OWN_REALTY                    0\n",
      "CNT_CHILDREN                       0\n",
      "AMT_INCOME_TOTAL                   0\n",
      "AMT_CREDIT                         0\n",
      "AMT_ANNUITY                       12\n",
      "NAME_TYPE_SUITE                 1292\n",
      "NAME_INCOME_TYPE                   0\n",
      "NAME_EDUCATION_TYPE                0\n",
      "NAME_FAMILY_STATUS                 0\n",
      "NAME_HOUSING_TYPE                  0\n",
      "REGION_POPULATION_RELATIVE         0\n",
      "DAYS_BIRTH                         0\n",
      "DAYS_EMPLOYED                      0\n",
      "DAYS_REGISTRATION                  0\n",
      "DAYS_ID_PUBLISH                    0\n",
      "FLAG_MOBIL                         0\n",
      "FLAG_EMP_PHONE                     0\n",
      "FLAG_WORK_PHONE                    0\n",
      "FLAG_CONT_MOBILE                   0\n",
      "FLAG_PHONE                         0\n",
      "FLAG_EMAIL                         0\n",
      "OCCUPATION_TYPE                96391\n",
      "CNT_FAM_MEMBERS                    2\n",
      "REGION_RATING_CLIENT               0\n",
      "WEEKDAY_APPR_PROCESS_START         0\n",
      "HOUR_APPR_PROCESS_START            0\n",
      "REG_REGION_NOT_LIVE_REGION         0\n",
      "REG_REGION_NOT_WORK_REGION         0\n",
      "LIVE_REGION_NOT_WORK_REGION        0\n",
      "REG_CITY_NOT_LIVE_CITY             0\n",
      "REG_CITY_NOT_WORK_CITY             0\n",
      "LIVE_CITY_NOT_WORK_CITY            0\n",
      "ORGANIZATION_TYPE                  0\n",
      "EXT_SOURCE_2                     660\n",
      "EXT_SOURCE_3                   60965\n",
      "OBS_30_CNT_SOCIAL_CIRCLE        1021\n",
      "DEF_30_CNT_SOCIAL_CIRCLE        1021\n",
      "DEF_60_CNT_SOCIAL_CIRCLE        1021\n",
      "DAYS_LAST_PHONE_CHANGE             1\n",
      "FLAG_DOCUMENT_3                    0\n",
      "FLAG_DOCUMENT_4                    0\n",
      "FLAG_DOCUMENT_5                    0\n",
      "FLAG_DOCUMENT_6                    0\n",
      "FLAG_DOCUMENT_7                    0\n",
      "FLAG_DOCUMENT_8                    0\n",
      "FLAG_DOCUMENT_9                    0\n",
      "FLAG_DOCUMENT_11                   0\n",
      "FLAG_DOCUMENT_18                   0\n",
      "AMT_REQ_CREDIT_BUREAU_HOUR     41519\n",
      "AMT_REQ_CREDIT_BUREAU_DAY      41519\n",
      "AMT_REQ_CREDIT_BUREAU_WEEK     41519\n",
      "AMT_REQ_CREDIT_BUREAU_MON      41519\n",
      "AMT_REQ_CREDIT_BUREAU_QRT      41519\n",
      "AMT_REQ_CREDIT_BUREAU_YEAR     41519\n",
      "dtype: int64\n"
     ]
    }
   ],
   "source": [
    "# Applying for missing columns:\n",
    "print(\"Missing values per column:\")\n",
    "print(df.apply(num_missing, axis=0))"
   ]
  },
  {
   "cell_type": "code",
   "execution_count": 9,
   "metadata": {
    "collapsed": true
   },
   "outputs": [],
   "source": [
    "# fill missing values in columns that are objects with unknown. \n",
    "df['NAME_TYPE_SUITE'].fillna('Unknown', inplace=True)\n",
    "df['OCCUPATION_TYPE'].fillna('Unknown', inplace=True)"
   ]
  },
  {
   "cell_type": "markdown",
   "metadata": {},
   "source": [
    "NAME_TYPE_SUITE and OCCUPATION_TYPE are the only two categorical variables that still have missing values. For these we decided to create a new class called \"Unknown\". This was done because we could, if necessary, explain that as it own entity for further investigation."
   ]
  },
  {
   "cell_type": "code",
   "execution_count": 10,
   "metadata": {},
   "outputs": [
    {
     "name": "stdout",
     "output_type": "stream",
     "text": [
      "Missing values per column:\n",
      "SK_ID_CURR                         0\n",
      "TARGET                             0\n",
      "NAME_CONTRACT_TYPE                 0\n",
      "CODE_GENDER                        0\n",
      "FLAG_OWN_CAR                       0\n",
      "FLAG_OWN_REALTY                    0\n",
      "CNT_CHILDREN                       0\n",
      "AMT_INCOME_TOTAL                   0\n",
      "AMT_CREDIT                         0\n",
      "AMT_ANNUITY                       12\n",
      "NAME_TYPE_SUITE                    0\n",
      "NAME_INCOME_TYPE                   0\n",
      "NAME_EDUCATION_TYPE                0\n",
      "NAME_FAMILY_STATUS                 0\n",
      "NAME_HOUSING_TYPE                  0\n",
      "REGION_POPULATION_RELATIVE         0\n",
      "DAYS_BIRTH                         0\n",
      "DAYS_EMPLOYED                      0\n",
      "DAYS_REGISTRATION                  0\n",
      "DAYS_ID_PUBLISH                    0\n",
      "FLAG_MOBIL                         0\n",
      "FLAG_EMP_PHONE                     0\n",
      "FLAG_WORK_PHONE                    0\n",
      "FLAG_CONT_MOBILE                   0\n",
      "FLAG_PHONE                         0\n",
      "FLAG_EMAIL                         0\n",
      "OCCUPATION_TYPE                    0\n",
      "CNT_FAM_MEMBERS                    2\n",
      "REGION_RATING_CLIENT               0\n",
      "WEEKDAY_APPR_PROCESS_START         0\n",
      "HOUR_APPR_PROCESS_START            0\n",
      "REG_REGION_NOT_LIVE_REGION         0\n",
      "REG_REGION_NOT_WORK_REGION         0\n",
      "LIVE_REGION_NOT_WORK_REGION        0\n",
      "REG_CITY_NOT_LIVE_CITY             0\n",
      "REG_CITY_NOT_WORK_CITY             0\n",
      "LIVE_CITY_NOT_WORK_CITY            0\n",
      "ORGANIZATION_TYPE                  0\n",
      "EXT_SOURCE_2                     660\n",
      "EXT_SOURCE_3                   60965\n",
      "OBS_30_CNT_SOCIAL_CIRCLE        1021\n",
      "DEF_30_CNT_SOCIAL_CIRCLE        1021\n",
      "DEF_60_CNT_SOCIAL_CIRCLE        1021\n",
      "DAYS_LAST_PHONE_CHANGE             1\n",
      "FLAG_DOCUMENT_3                    0\n",
      "FLAG_DOCUMENT_4                    0\n",
      "FLAG_DOCUMENT_5                    0\n",
      "FLAG_DOCUMENT_6                    0\n",
      "FLAG_DOCUMENT_7                    0\n",
      "FLAG_DOCUMENT_8                    0\n",
      "FLAG_DOCUMENT_9                    0\n",
      "FLAG_DOCUMENT_11                   0\n",
      "FLAG_DOCUMENT_18                   0\n",
      "AMT_REQ_CREDIT_BUREAU_HOUR     41519\n",
      "AMT_REQ_CREDIT_BUREAU_DAY      41519\n",
      "AMT_REQ_CREDIT_BUREAU_WEEK     41519\n",
      "AMT_REQ_CREDIT_BUREAU_MON      41519\n",
      "AMT_REQ_CREDIT_BUREAU_QRT      41519\n",
      "AMT_REQ_CREDIT_BUREAU_YEAR     41519\n",
      "dtype: int64\n"
     ]
    }
   ],
   "source": [
    "# Applying for missing columns:\n",
    "print(\"Missing values per column:\")\n",
    "print(df.apply(num_missing, axis=0))"
   ]
  },
  {
   "cell_type": "code",
   "execution_count": 11,
   "metadata": {},
   "outputs": [
    {
     "name": "stdout",
     "output_type": "stream",
     "text": [
      "   column_name_that_will_be_imputed\n",
      "0                       AMT_ANNUITY\n",
      "1                      EXT_SOURCE_2\n",
      "2                      EXT_SOURCE_3\n",
      "3                   CNT_FAM_MEMBERS\n",
      "4            DAYS_LAST_PHONE_CHANGE\n",
      "5          OBS_30_CNT_SOCIAL_CIRCLE\n",
      "6          DEF_30_CNT_SOCIAL_CIRCLE\n",
      "7          DEF_60_CNT_SOCIAL_CIRCLE\n",
      "8        AMT_REQ_CREDIT_BUREAU_HOUR\n",
      "9         AMT_REQ_CREDIT_BUREAU_DAY\n",
      "10       AMT_REQ_CREDIT_BUREAU_WEEK\n",
      "11        AMT_REQ_CREDIT_BUREAU_MON\n",
      "12        AMT_REQ_CREDIT_BUREAU_QRT\n",
      "13       AMT_REQ_CREDIT_BUREAU_YEAR\n"
     ]
    }
   ],
   "source": [
    "# Fill NaN values with the median of the column.\n",
    "\n",
    "columns_to_impute = ['AMT_ANNUITY', 'EXT_SOURCE_2', 'EXT_SOURCE_3', 'CNT_FAM_MEMBERS', 'DAYS_LAST_PHONE_CHANGE', 'OBS_30_CNT_SOCIAL_CIRCLE',\n",
    "                    'DEF_30_CNT_SOCIAL_CIRCLE', 'DEF_60_CNT_SOCIAL_CIRCLE', 'AMT_REQ_CREDIT_BUREAU_HOUR', 'AMT_REQ_CREDIT_BUREAU_DAY',\n",
    "                    'AMT_REQ_CREDIT_BUREAU_WEEK', 'AMT_REQ_CREDIT_BUREAU_MON', 'AMT_REQ_CREDIT_BUREAU_QRT', 'AMT_REQ_CREDIT_BUREAU_YEAR']\n",
    "columns_to_impute_df = pd.DataFrame({'column_name_that_will_be_imputed': columns_to_impute})\n",
    "print (columns_to_impute_df)\n",
    "for column in columns_to_impute:\n",
    "    df[column].fillna((df[column].median()), inplace=True)"
   ]
  },
  {
   "cell_type": "markdown",
   "metadata": {},
   "source": [
    "Here we are taking a look at the rest of the variables which are all ints or floats. Here we decided to impute the median for each respective missing value. The reason we chose to do that is that we did not want to use the average because outliers would have a more profound impact. Thus we chose the median as a simple imputation technique for now. However, this is open for change based off further analysis and more sophisticated imputation techniques such as Expectation-Maximization can be attempted."
   ]
  },
  {
   "cell_type": "code",
   "execution_count": 12,
   "metadata": {},
   "outputs": [
    {
     "name": "stdout",
     "output_type": "stream",
     "text": [
      "Missing values per column:\n",
      "SK_ID_CURR                     0\n",
      "TARGET                         0\n",
      "NAME_CONTRACT_TYPE             0\n",
      "CODE_GENDER                    0\n",
      "FLAG_OWN_CAR                   0\n",
      "FLAG_OWN_REALTY                0\n",
      "CNT_CHILDREN                   0\n",
      "AMT_INCOME_TOTAL               0\n",
      "AMT_CREDIT                     0\n",
      "AMT_ANNUITY                    0\n",
      "NAME_TYPE_SUITE                0\n",
      "NAME_INCOME_TYPE               0\n",
      "NAME_EDUCATION_TYPE            0\n",
      "NAME_FAMILY_STATUS             0\n",
      "NAME_HOUSING_TYPE              0\n",
      "REGION_POPULATION_RELATIVE     0\n",
      "DAYS_BIRTH                     0\n",
      "DAYS_EMPLOYED                  0\n",
      "DAYS_REGISTRATION              0\n",
      "DAYS_ID_PUBLISH                0\n",
      "FLAG_MOBIL                     0\n",
      "FLAG_EMP_PHONE                 0\n",
      "FLAG_WORK_PHONE                0\n",
      "FLAG_CONT_MOBILE               0\n",
      "FLAG_PHONE                     0\n",
      "FLAG_EMAIL                     0\n",
      "OCCUPATION_TYPE                0\n",
      "CNT_FAM_MEMBERS                0\n",
      "REGION_RATING_CLIENT           0\n",
      "WEEKDAY_APPR_PROCESS_START     0\n",
      "HOUR_APPR_PROCESS_START        0\n",
      "REG_REGION_NOT_LIVE_REGION     0\n",
      "REG_REGION_NOT_WORK_REGION     0\n",
      "LIVE_REGION_NOT_WORK_REGION    0\n",
      "REG_CITY_NOT_LIVE_CITY         0\n",
      "REG_CITY_NOT_WORK_CITY         0\n",
      "LIVE_CITY_NOT_WORK_CITY        0\n",
      "ORGANIZATION_TYPE              0\n",
      "EXT_SOURCE_2                   0\n",
      "EXT_SOURCE_3                   0\n",
      "OBS_30_CNT_SOCIAL_CIRCLE       0\n",
      "DEF_30_CNT_SOCIAL_CIRCLE       0\n",
      "DEF_60_CNT_SOCIAL_CIRCLE       0\n",
      "DAYS_LAST_PHONE_CHANGE         0\n",
      "FLAG_DOCUMENT_3                0\n",
      "FLAG_DOCUMENT_4                0\n",
      "FLAG_DOCUMENT_5                0\n",
      "FLAG_DOCUMENT_6                0\n",
      "FLAG_DOCUMENT_7                0\n",
      "FLAG_DOCUMENT_8                0\n",
      "FLAG_DOCUMENT_9                0\n",
      "FLAG_DOCUMENT_11               0\n",
      "FLAG_DOCUMENT_18               0\n",
      "AMT_REQ_CREDIT_BUREAU_HOUR     0\n",
      "AMT_REQ_CREDIT_BUREAU_DAY      0\n",
      "AMT_REQ_CREDIT_BUREAU_WEEK     0\n",
      "AMT_REQ_CREDIT_BUREAU_MON      0\n",
      "AMT_REQ_CREDIT_BUREAU_QRT      0\n",
      "AMT_REQ_CREDIT_BUREAU_YEAR     0\n",
      "dtype: int64\n"
     ]
    }
   ],
   "source": [
    "print(\"Missing values per column:\")\n",
    "print(df.apply(num_missing, axis=0))"
   ]
  },
  {
   "cell_type": "code",
   "execution_count": null,
   "metadata": {
    "collapsed": true
   },
   "outputs": [],
   "source": [
    "# df.to_csv('imputed_cleaned_train_data.csv', sep=',')"
   ]
  },
  {
   "cell_type": "code",
   "execution_count": null,
   "metadata": {},
   "outputs": [],
   "source": [
    "df.info()"
   ]
  },
  {
   "cell_type": "markdown",
   "metadata": {},
   "source": [
    "After cleaning we have no more columns with NA values and have reduced our dataset down to 59 dimensions."
   ]
  },
  {
   "cell_type": "markdown",
   "metadata": {},
   "source": [
    "# Simple Statistics"
   ]
  },
  {
   "cell_type": "markdown",
   "metadata": {},
   "source": [
    "First, we will take a look at our target variable. That is, whether a client had difficulty paying and/or made late payment on one of the first installments of their loan. This information is useful for understanding our class distribution, which will be critical for effective modeling and understanding our predictive capability in later projects."
   ]
  },
  {
   "cell_type": "code",
   "execution_count": 13,
   "metadata": {},
   "outputs": [
    {
     "data": {
      "text/plain": [
       "0    282686\n",
       "1     24825\n",
       "Name: TARGET, dtype: int64"
      ]
     },
     "execution_count": 13,
     "metadata": {},
     "output_type": "execute_result"
    }
   ],
   "source": [
    "df_target_count = df['TARGET'].value_counts() # calculate counts of 1, 0 in TARGET\n",
    "df_target_count # print counts"
   ]
  },
  {
   "cell_type": "markdown",
   "metadata": {},
   "source": [
    "This shows that 24,825 clients had difficulty with the first installments of their loans, while 282,686 did not."
   ]
  },
  {
   "cell_type": "code",
   "execution_count": 18,
   "metadata": {},
   "outputs": [
    {
     "data": {
      "image/png": "[encoded data removed]",
      "text/plain": [
       "<matplotlib.figure.Figure at 0x117e59198>"
      ]
     },
     "metadata": {},
     "output_type": "display_data"
    }
   ],
   "source": [
    "pie_labels = ['All Other Cases (No Difficulties)','With Payment Difficulties']\n",
    "plt.axis(\"equal\")\n",
    "plt.pie(df_target_count, labels=pie_labels, radius=1.5, autopct='%0.0f%%')\n",
    "plt.show()"
   ]
  },
  {
   "cell_type": "markdown",
   "metadata": {},
   "source": [
    "This shows that our class distribution is not balanced as only 8% of our data had an issue with the first installment - while 92% had no payment difficulties.\n",
    "\n",
    "We can also look at the counts of gender in the data. We found a small number of values of 'XNA' in this feature, which we will remove."
   ]
  },
  {
   "cell_type": "code",
   "execution_count": 19,
   "metadata": {},
   "outputs": [
    {
     "data": {
      "text/plain": [
       "F    202448\n",
       "M    105059\n",
       "Name: CODE_GENDER, dtype: int64"
      ]
     },
     "execution_count": 19,
     "metadata": {},
     "output_type": "execute_result"
    }
   ],
   "source": [
    "df2 = df[df['CODE_GENDER'] != 'XNA']  # this removes 4 instances of a value called \"XNA\" in CODE_GENDER\n",
    "df_gender_count = df2['CODE_GENDER'].value_counts()   # calculate counts of values in CODE_GENDER\n",
    "df_gender_count # print counts"
   ]
  },
  {
   "cell_type": "code",
   "execution_count": 20,
   "metadata": {},
   "outputs": [
    {
     "data": {
      "image/png": "[encoded data removed]",
      "text/plain": [
       "<matplotlib.figure.Figure at 0x11df857f0>"
      ]
     },
     "metadata": {},
     "output_type": "display_data"
    }
   ],
   "source": [
    "pie_labels = ['Female','Male']\n",
    "colors = ['pink','lightskyblue']\n",
    "plt.axis(\"equal\")\n",
    "plt.pie(df_gender_count, labels=pie_labels, radius=1.5, autopct='%0.0f%%', colors=colors)\n",
    "plt.show()"
   ]
  },
  {
   "cell_type": "markdown",
   "metadata": {},
   "source": [
    "These raw counts and pie chart are interesting! It shows that 66% of the clients in the data are female, while only 34% are male. Later we will analyze a grouping of how each of the classes are distributed for male and female. This will help us to explore if there are any notable differences between gender and diffculty with the initial loan repayment.\n",
    "\n",
    "Let's take a look at the distribution of number of children for all clients. This is found in the CNT_CHILDREN feature. We will discretize this feature as there are some outliers."
   ]
  },
  {
   "cell_type": "code",
   "execution_count": 21,
   "metadata": {},
   "outputs": [
    {
     "data": {
      "text/plain": [
       "<matplotlib.axes._subplots.AxesSubplot at 0x11e17f7f0>"
      ]
     },
     "execution_count": 21,
     "metadata": {},
     "output_type": "execute_result"
    },
    {
     "data": {
      "image/png": "[encoded data removed]",
      "text/plain": [
       "<matplotlib.figure.Figure at 0x11df74be0>"
      ]
     },
     "metadata": {},
     "output_type": "display_data"
    }
   ],
   "source": [
    "children = [0,1,2,3,4,5]\n",
    "df['CNT_CHILDREN'].plot.hist(bins=children)"
   ]
  },
  {
   "cell_type": "markdown",
   "metadata": {},
   "source": [
    "This shows that a large number of clients actually do not have children. Let's now take a look at what percentage of clients have no children compared to those with at least 1."
   ]
  },
  {
   "cell_type": "code",
   "execution_count": 23,
   "metadata": {},
   "outputs": [
    {
     "data": {
      "text/plain": [
       "Yes    215371\n",
       "No      92140\n",
       "Name: HAS_KIDS, dtype: int64"
      ]
     },
     "execution_count": 23,
     "metadata": {},
     "output_type": "execute_result"
    }
   ],
   "source": [
    "df['HAS_KIDS'] = np.where(df['CNT_CHILDREN']==0, 'Yes', 'No')   # This is creating a new feature.\n",
    "df_children = df['HAS_KIDS'].value_counts()\n",
    "df_children"
   ]
  },
  {
   "cell_type": "code",
   "execution_count": 24,
   "metadata": {},
   "outputs": [
    {
     "data": {
      "image/png": "[encoded data removed]",
      "text/plain": [
       "<matplotlib.figure.Figure at 0x11801dac8>"
      ]
     },
     "metadata": {},
     "output_type": "display_data"
    }
   ],
   "source": [
    "pie_labels = ['No Children','At Least 1 Child']\n",
    "colors = ['grey','red']\n",
    "plt.axis(\"equal\")\n",
    "plt.pie(df_children, labels=pie_labels, radius=1.5, autopct='%0.0f%%', colors=colors)\n",
    "plt.show()"
   ]
  },
  {
   "cell_type": "markdown",
   "metadata": {},
   "source": [
    "This demonstrates that 70% of clients do not have children. This is meaningful as further analysis may reveal that this has an impact on the clients ability to repay the loan.\n",
    "\n",
    "Another interesting statistic would be to look at the distribution of income across all clients (those with and without payment difficulties). This will be achieved with a histogram on AMT_INCOME_TOTAL. We found that this feature is highly skewed and it's very difficult to bucket due to it's variance."
   ]
  },
  {
   "cell_type": "code",
   "execution_count": 25,
   "metadata": {},
   "outputs": [
    {
     "data": {
      "text/plain": [
       "count       307511.000000\n",
       "mean        168797.917938\n",
       "std         237123.146280\n",
       "min          25650.000000\n",
       "25%         112500.000000\n",
       "50%         147150.000000\n",
       "75%         202500.000000\n",
       "max      117000000.000000\n",
       "Name: AMT_INCOME_TOTAL, dtype: object"
      ]
     },
     "execution_count": 25,
     "metadata": {},
     "output_type": "execute_result"
    }
   ],
   "source": [
    "df['AMT_INCOME_TOTAL'] = df['AMT_INCOME_TOTAL'].astype(np.int64)\n",
    "df['AMT_INCOME_TOTAL'].describe().apply(lambda x: format(x, 'f')) # removes scientific notation"
   ]
  },
  {
   "cell_type": "markdown",
   "metadata": {},
   "source": [
    "For example, this shows that the 75-percent quartile range is 202,500 - while the maximum income is a whopping 117,000,000! "
   ]
  },
  {
   "cell_type": "code",
   "execution_count": 26,
   "metadata": {},
   "outputs": [
    {
     "data": {
      "text/plain": [
       "12840     117000000\n",
       "203693     18000090\n",
       "246858     13500000\n",
       "77768       9000000\n",
       "131127      6750000\n",
       "103006      4500000\n",
       "204564      4500000\n",
       "187833      4500000\n",
       "287463      4500000\n",
       "181698      3950059\n",
       "Name: AMT_INCOME_TOTAL, dtype: int64"
      ]
     },
     "execution_count": 26,
     "metadata": {},
     "output_type": "execute_result"
    }
   ],
   "source": [
    "df = df.sort_values(by=['AMT_INCOME_TOTAL'], ascending=False)\n",
    "df['AMT_INCOME_TOTAL'].head(10)"
   ]
  },
  {
   "cell_type": "markdown",
   "metadata": {},
   "source": [
    "Reviewing the 10 largest values in the data reveal other notable outliers - there are 3 clients with greater than 10 million dollars. "
   ]
  },
  {
   "cell_type": "code",
   "execution_count": 27,
   "metadata": {},
   "outputs": [
    {
     "data": {
      "image/png": "[encoded data removed]",
      "text/plain": [
       "<matplotlib.figure.Figure at 0x125738828>"
      ]
     },
     "metadata": {},
     "output_type": "display_data"
    }
   ],
   "source": [
    "df1 = df[df['AMT_INCOME_TOTAL'] < 500000]   # this chops the data to only those clients with less than 500,000 in income\n",
    "data1 = df1['AMT_INCOME_TOTAL'].astype(np.int64)\n",
    "\n",
    "plt.hist(data1, log=False, bins='auto', histtype='bar')\n",
    "plt.xlabel(\"Bins of Clients by Income Ranges\")\n",
    "plt.ylabel('Income in US Dollar')\n",
    "plt.title('Distribution of Income')\n",
    "plt.show()"
   ]
  },
  {
   "cell_type": "markdown",
   "metadata": {},
   "source": [
    "The above histogram was generated with only those clients with $500,000 or less income and it still exhibits a highly skewed long tail. This will need to be addressed in later analysis. It's also clear from these buckets that some of the entries into this feature may be more standardized than others - thus the large spikes at certain buckets."
   ]
  },
  {
   "cell_type": "code",
   "execution_count": 28,
   "metadata": {},
   "outputs": [
    {
     "data": {
      "image/png": "[encoded data removed]",
      "text/plain": [
       "<matplotlib.figure.Figure at 0x12bef3240>"
      ]
     },
     "metadata": {},
     "output_type": "display_data"
    }
   ],
   "source": [
    "df1 = df[df['AMT_INCOME_TOTAL'] < 300000]   # this chops the data to only those clients with less than 500,000 in income\n",
    "data1 = df1['AMT_INCOME_TOTAL'].astype(np.int64)\n",
    "\n",
    "plt.hist(data1, log=False, bins='auto', histtype='bar')\n",
    "plt.xlabel(\"Bins of Clients by Income Ranges\")\n",
    "plt.ylabel('Income in US Dollar')\n",
    "plt.title('Distribution of Income')\n",
    "plt.show()"
   ]
  },
  {
   "cell_type": "markdown",
   "metadata": {},
   "source": [
    "Here is another view of the distribution limiting to those clients with less than $300,000 income."
   ]
  },
  {
   "cell_type": "markdown",
   "metadata": {},
   "source": [
    "The data includes whether or not a client included a certain document when they applied. Unfortunately, the data dictionary provided doesn't reveal what these documents are, but it might become useful later while modeling to find that some of these may have an impact on a client's ability to make an initial loan repayment."
   ]
  },
  {
   "cell_type": "code",
   "execution_count": 52,
   "metadata": {
    "scrolled": true
   },
   "outputs": [
    {
     "data": {
      "text/html": [
       "<div>\n",
       "<style>\n",
       "    .dataframe thead tr:only-child th {\n",
       "        text-align: right;\n",
       "    }\n",
       "\n",
       "    .dataframe thead th {\n",
       "        text-align: left;\n",
       "    }\n",
       "\n",
       "    .dataframe tbody tr th {\n",
       "        vertical-align: top;\n",
       "    }\n",
       "</style>\n",
       "<table border=\"1\" class=\"dataframe\">\n",
       "  <thead>\n",
       "    <tr style=\"text-align: right;\">\n",
       "      <th></th>\n",
       "      <th>FLAG_DOCUMENT_4</th>\n",
       "      <th>FLAG_DOCUMENT_5</th>\n",
       "      <th>FLAG_DOCUMENT_6</th>\n",
       "      <th>FLAG_DOCUMENT_7</th>\n",
       "      <th>FLAG_DOCUMENT_8</th>\n",
       "      <th>FLAG_DOCUMENT_9</th>\n",
       "      <th>FLAG_DOCUMENT_11</th>\n",
       "      <th>FLAG_DOCUMENT_18</th>\n",
       "    </tr>\n",
       "  </thead>\n",
       "  <tbody>\n",
       "    <tr>\n",
       "      <th>0</th>\n",
       "      <td>307486</td>\n",
       "      <td>302863</td>\n",
       "      <td>280433</td>\n",
       "      <td>307452</td>\n",
       "      <td>282487</td>\n",
       "      <td>306313</td>\n",
       "      <td>306308</td>\n",
       "      <td>305011</td>\n",
       "    </tr>\n",
       "    <tr>\n",
       "      <th>1</th>\n",
       "      <td>25</td>\n",
       "      <td>4648</td>\n",
       "      <td>27078</td>\n",
       "      <td>59</td>\n",
       "      <td>25024</td>\n",
       "      <td>1198</td>\n",
       "      <td>1203</td>\n",
       "      <td>2500</td>\n",
       "    </tr>\n",
       "  </tbody>\n",
       "</table>\n",
       "</div>"
      ],
      "text/plain": [
       "   FLAG_DOCUMENT_4  FLAG_DOCUMENT_5  FLAG_DOCUMENT_6  FLAG_DOCUMENT_7  \\\n",
       "0           307486           302863           280433           307452   \n",
       "1               25             4648            27078               59   \n",
       "\n",
       "   FLAG_DOCUMENT_8  FLAG_DOCUMENT_9  FLAG_DOCUMENT_11  FLAG_DOCUMENT_18  \n",
       "0           282487           306313            306308            305011  \n",
       "1            25024             1198              1203              2500  "
      ]
     },
     "execution_count": 52,
     "metadata": {},
     "output_type": "execute_result"
    }
   ],
   "source": [
    "df_flag_docs = df[['FLAG_DOCUMENT_4','FLAG_DOCUMENT_5','FLAG_DOCUMENT_6','FLAG_DOCUMENT_7','FLAG_DOCUMENT_8',\n",
    "                   'FLAG_DOCUMENT_9','FLAG_DOCUMENT_11','FLAG_DOCUMENT_18']]\n",
    "\n",
    "df_flag_docs_counts = df_flag_docs.apply(pd.Series.value_counts)\n",
    "df_flag_docs_counts"
   ]
  },
  {
   "cell_type": "markdown",
   "metadata": {},
   "source": [
    "Overall - most of these are pretty sparsely populated, but may prove to be meaningful once we begin analysis on the significance of all features. "
   ]
  },
  {
   "cell_type": "markdown",
   "metadata": {},
   "source": [
    "# Visualize Attributes"
   ]
  },
  {
   "cell_type": "markdown",
   "metadata": {},
   "source": [
    "Let's take a look at the amount of credit that was given. This is in the feature AMT_CREDIT."
   ]
  },
  {
   "cell_type": "code",
   "execution_count": 67,
   "metadata": {},
   "outputs": [
    {
     "data": {
      "text/plain": [
       "<matplotlib.axes._subplots.AxesSubplot at 0x12bf3ceb8>"
      ]
     },
     "execution_count": 67,
     "metadata": {},
     "output_type": "execute_result"
    },
    {
     "data": {
      "image/png": "[encoded data removed]",
      "text/plain": [
       "<matplotlib.figure.Figure at 0x124128710>"
      ]
     },
     "metadata": {},
     "output_type": "display_data"
    }
   ],
   "source": [
    "df['AMT_CREDIT'].to_frame().boxplot()"
   ]
  },
  {
   "cell_type": "code",
   "execution_count": 31,
   "metadata": {},
   "outputs": [
    {
     "data": {
      "text/plain": [
       "<matplotlib.axes._subplots.AxesSubplot at 0x118761400>"
      ]
     },
     "execution_count": 31,
     "metadata": {},
     "output_type": "execute_result"
    },
    {
     "data": {
      "image/png": "[encoded data removed]",
      "text/plain": [
       "<matplotlib.figure.Figure at 0x11876ba58>"
      ]
     },
     "metadata": {},
     "output_type": "display_data"
    }
   ],
   "source": [
    "sns.distplot(df['AMT_CREDIT'], bins=100)"
   ]
  },
  {
   "cell_type": "markdown",
   "metadata": {},
   "source": [
    "The box plot shows us that median loan credit is right at 500,000. The kernel density plot also shows us a spike some where less than $500,000."
   ]
  },
  {
   "cell_type": "markdown",
   "metadata": {},
   "source": [
    "Further to the last analysis on loan credit amount let's take a look at some buckets less than $1,000,000 at $50,000 increments."
   ]
  },
  {
   "cell_type": "code",
   "execution_count": 38,
   "metadata": {},
   "outputs": [
    {
     "data": {
      "text/plain": [
       "<matplotlib.axes._subplots.AxesSubplot at 0x12beecd68>"
      ]
     },
     "execution_count": 38,
     "metadata": {},
     "output_type": "execute_result"
    },
    {
     "data": {
      "image/png": "[encoded data removed]",
      "text/plain": [
       "<matplotlib.figure.Figure at 0x1239adc18>"
      ]
     },
     "metadata": {},
     "output_type": "display_data"
    }
   ],
   "source": [
    "loanbuckets = range(0,1000000,50000)\n",
    "df['AMT_CREDIT'].plot.hist(bins=loanbuckets)"
   ]
  },
  {
   "cell_type": "markdown",
   "metadata": {},
   "source": [
    "This shows a large grouping of loans at the 300,000 and 500,000 buckets."
   ]
  },
  {
   "cell_type": "markdown",
   "metadata": {},
   "source": [
    "Let's take a look at the distribution of client age."
   ]
  },
  {
   "cell_type": "code",
   "execution_count": 40,
   "metadata": {},
   "outputs": [
    {
     "data": {
      "text/plain": [
       "12840    -12615\n",
       "203693   -15704\n",
       "246858   -13551\n",
       "77768    -16425\n",
       "131127   -19341\n",
       "Name: DAYS_BIRTH, dtype: int64"
      ]
     },
     "execution_count": 40,
     "metadata": {},
     "output_type": "execute_result"
    }
   ],
   "source": [
    "df['DAYS_BIRTH'].head(5)"
   ]
  },
  {
   "cell_type": "markdown",
   "metadata": {},
   "source": [
    "It appears that this feature is stored as days in the past from when the client submitted an application. We can convert this to years by getting the absolute value and dividing the result by 365."
   ]
  },
  {
   "cell_type": "code",
   "execution_count": 41,
   "metadata": {},
   "outputs": [
    {
     "data": {
      "text/plain": [
       "12840     34.561644\n",
       "203693    43.024658\n",
       "246858    37.126027\n",
       "77768     45.000000\n",
       "131127    52.989041\n",
       "Name: DAYS_BIRTH, dtype: float64"
      ]
     },
     "execution_count": 41,
     "metadata": {},
     "output_type": "execute_result"
    }
   ],
   "source": [
    "# since all values are days in the past...get absolute value and divide by 365 to convert to years.\n",
    "df['DAYS_BIRTH'] = df['DAYS_BIRTH'].apply(lambda x: abs(x) / 365)\n",
    "df['DAYS_BIRTH'].head(5)"
   ]
  },
  {
   "cell_type": "code",
   "execution_count": 42,
   "metadata": {},
   "outputs": [
    {
     "data": {
      "image/png": "[encoded data removed]",
      "text/plain": [
       "<matplotlib.figure.Figure at 0x12bdbd048>"
      ]
     },
     "metadata": {},
     "output_type": "display_data"
    }
   ],
   "source": [
    "plt.hist(df['DAYS_BIRTH'], log=False, bins=50, histtype='bar')\n",
    "plt.xlabel(\"Bins of Client Ages\")\n",
    "plt.ylabel('Number of Clients')\n",
    "plt.title('Distribution of Client Age')\n",
    "plt.show()"
   ]
  },
  {
   "cell_type": "markdown",
   "metadata": {},
   "source": [
    "The histogram reveals that a majority of clients fall between the ages of about 27 to 43. It's also interesting that the histogram is fairly flat through the middle, which means that there is still a large portion of clients in the 44 to 63 range before it drops off dramatically.\n",
    "\n",
    "This is an appropriate visualization as it breaks down a range of values (from about 20 to 70) and can visualize frequencies in buckets."
   ]
  },
  {
   "cell_type": "markdown",
   "metadata": {},
   "source": [
    "Let's now look at a breakdown of OCCUPATION_TYPE"
   ]
  },
  {
   "cell_type": "code",
   "execution_count": 53,
   "metadata": {},
   "outputs": [
    {
     "data": {
      "text/plain": [
       "Unknown                  96391\n",
       "Laborers                 55186\n",
       "Sales staff              32102\n",
       "Core staff               27570\n",
       "Managers                 21371\n",
       "Drivers                  18603\n",
       "High skill tech staff    11380\n",
       "Accountants               9813\n",
       "Medicine staff            8537\n",
       "Security staff            6721\n",
       "Cooking staff             5946\n",
       "Cleaning staff            4653\n",
       "Private service staff     2652\n",
       "Low-skill Laborers        2093\n",
       "Waiters/barmen staff      1348\n",
       "Secretaries               1305\n",
       "Realty agents              751\n",
       "HR staff                   563\n",
       "IT staff                   526\n",
       "Name: OCCUPATION_TYPE, dtype: int64"
      ]
     },
     "execution_count": 53,
     "metadata": {},
     "output_type": "execute_result"
    }
   ],
   "source": [
    "df_occupation_count = df['OCCUPATION_TYPE'].value_counts()\n",
    "df_occupation_count"
   ]
  },
  {
   "cell_type": "code",
   "execution_count": 60,
   "metadata": {},
   "outputs": [
    {
     "data": {
      "image/png": "[encoded data removed]",
      "text/plain": [
       "<matplotlib.figure.Figure at 0x1390f8320>"
      ]
     },
     "metadata": {},
     "output_type": "display_data"
    }
   ],
   "source": [
    "occupation_labels = ['Unknown','Laborers','Sales staff','Core staff','Managers','Drivers','High skill tech staff','Accountants','Medicine staff','Security staff','Cooking staff','Cleaning staff','Private service staff','Low-skill Laborers','Waiters/barmen staff','Secretaries','Realty agents','HR staff','IT staff']             \n",
    "plt.axis('equal')\n",
    "plt.pie(df_occupation_count, radius=4, autopct='%0.0f%%', labels=occupation_labels)\n",
    "plt.show()"
   ]
  },
  {
   "cell_type": "markdown",
   "metadata": {},
   "source": [
    "This pie chart is useful in that it shows among the most popular occupations for borrowers are: Laborers, Sales staff, Core staff, Managers, Drivers, High skill tech staff, and Accountants.\n",
    "\n",
    "This is an appropriate visualization as barring a few of the values in this feature most of the values form large percentages of the whole set of values."
   ]
  },
  {
   "attachments": {},
   "cell_type": "markdown",
   "metadata": {},
   "source": [
    "Let's now take a look at the breakdown of NAME_EDUCATION_TYPE, which shows the highest education the client received."
   ]
  },
  {
   "cell_type": "code",
   "execution_count": 63,
   "metadata": {},
   "outputs": [
    {
     "data": {
      "text/plain": [
       "Secondary / secondary special    218391\n",
       "Higher education                  74863\n",
       "Incomplete higher                 10277\n",
       "Lower secondary                    3816\n",
       "Academic degree                     164\n",
       "Name: NAME_EDUCATION_TYPE, dtype: int64"
      ]
     },
     "execution_count": 63,
     "metadata": {},
     "output_type": "execute_result"
    }
   ],
   "source": [
    "df_education_count = df['NAME_EDUCATION_TYPE'].value_counts()\n",
    "df_education_count"
   ]
  },
  {
   "cell_type": "code",
   "execution_count": 64,
   "metadata": {},
   "outputs": [
    {
     "data": {
      "image/png": "[encoded data removed]",
      "text/plain": [
       "<matplotlib.figure.Figure at 0x139217198>"
      ]
     },
     "metadata": {},
     "output_type": "display_data"
    }
   ],
   "source": [
    "education_labels = ['Secondary / secondary special','Higher education','Incomplete higher','Lower secondary','Academic degree']             \n",
    "plt.axis('equal')\n",
    "plt.pie(df_education_count, radius=2.5, autopct='%0.0f%%', labels=education_labels)\n",
    "plt.show()"
   ]
  },
  {
   "cell_type": "markdown",
   "metadata": {},
   "source": [
    "This pie chart illustrates that roughly 3/4 of the clients only have a secondary education, while roughly 1/4 of the remainder have a higher education degree.\n",
    "\n",
    "This is an appropriate visualization as the feature doesn't have many values and as mentioned 2 of them make up most of the data set."
   ]
  },
  {
   "cell_type": "markdown",
   "metadata": {},
   "source": [
    "Finally, we can look at the family status of the client by breaking down NAME_FAMILY_STATUS."
   ]
  },
  {
   "cell_type": "code",
   "execution_count": 68,
   "metadata": {},
   "outputs": [
    {
     "data": {
      "text/plain": [
       "Married                 196432\n",
       "Single / not married     45444\n",
       "Civil marriage           29775\n",
       "Separated                19770\n",
       "Widow                    16088\n",
       "Name: NAME_FAMILY_STATUS, dtype: int64"
      ]
     },
     "execution_count": 68,
     "metadata": {},
     "output_type": "execute_result"
    }
   ],
   "source": [
    "df4 = df[df['NAME_FAMILY_STATUS'] != 'Unknown']   # let's remove Unknowns here as there are only 2 records\n",
    "df_family_count = df4['NAME_FAMILY_STATUS'].value_counts()\n",
    "df_family_count"
   ]
  },
  {
   "cell_type": "code",
   "execution_count": 69,
   "metadata": {},
   "outputs": [
    {
     "data": {
      "image/png": "[encoded data removed]",
      "text/plain": [
       "<matplotlib.figure.Figure at 0x123c308d0>"
      ]
     },
     "metadata": {},
     "output_type": "display_data"
    }
   ],
   "source": [
    "family_labels = ['Married','Single / not married','Civil marriage','Separated','Widow']             \n",
    "plt.axis('equal')\n",
    "plt.pie(df_family_count, radius=2.5, autopct='%0.0f%%', labels=family_labels)\n",
    "plt.show()"
   ]
  },
  {
   "cell_type": "markdown",
   "metadata": {},
   "source": [
    "The family status might have important implications on a client's ability to pay back a loan. For example, a dual-income family migh have more leverage and stability than someone who is single. \n",
    "\n",
    "This is very appropriate visualization for this feature as it's populated for every client and only has a small range of values."
   ]
  },
  {
   "cell_type": "markdown",
   "metadata": {},
   "source": [
    "# Explore Joint Attributes"
   ]
  },
  {
   "cell_type": "markdown",
   "metadata": {},
   "source": [
    "\"DINK\""
   ]
  },
  {
   "cell_type": "markdown",
   "metadata": {},
   "source": [
    "# Explore Attributes and Class"
   ]
  },
  {
   "cell_type": "markdown",
   "metadata": {},
   "source": [
    "An interesting attribute to examine would be the percentage breakdown of each class by gender. That is, what is the percentage of males versus females in the group with payment difficulties and those without."
   ]
  },
  {
   "cell_type": "code",
   "execution_count": 61,
   "metadata": {},
   "outputs": [
    {
     "name": "stdout",
     "output_type": "stream",
     "text": [
      "TARGET  CODE_GENDER\n",
      "0       F              188278\n",
      "        M               94404\n",
      "1       F               14170\n",
      "        M               10655\n",
      "Name: TARGET, dtype: int64\n",
      "TARGET        False  True \n",
      "CODE_GENDER               \n",
      "F            188278  14170\n",
      "M             94404  10655\n",
      "TARGET           False      True \n",
      "CODE_GENDER                      \n",
      "F            93.000672   6.999328\n",
      "M            89.858080  10.141920\n"
     ]
    },
    {
     "data": {
      "text/plain": [
       "<matplotlib.axes._subplots.AxesSubplot at 0x124120b38>"
      ]
     },
     "execution_count": 61,
     "metadata": {},
     "output_type": "execute_result"
    },
    {
     "data": {
      "image/png": "[encoded data removed]",
      "text/plain": [
       "<matplotlib.figure.Figure at 0x124130160>"
      ]
     },
     "metadata": {},
     "output_type": "display_data"
    }
   ],
   "source": [
    "df3 = df[df['CODE_GENDER'] != 'XNA']    # this removes 4 instances of a value called \"XNA\" in CODE_GENDER\n",
    "df_grouped_gender = df3.groupby(by=['TARGET','CODE_GENDER'])\n",
    "\n",
    "print(df_grouped_gender.TARGET.count())\n",
    "\n",
    "df_cross_gender = pd.crosstab([df3['CODE_GENDER']], df3.TARGET.astype(bool))\n",
    "\n",
    "print(df_cross_gender)\n",
    "\n",
    "gender_percentage = df_cross_gender.div(df_cross_gender.sum(1).astype(float), axis=0)\n",
    "print(gender_percentage * 100)\n",
    "gender_percentage.plot(kind='barh', stacked=True)"
   ]
  },
  {
   "cell_type": "markdown",
   "metadata": {},
   "source": [
    "This is another very interesting stacked bar chart. Our earlier analysis revealed that the data was made up of 66% females when examining the whole data set. However, the above normalized bar chart tells us that 10.14% of males struggled with payment difficulties, while only 7% of females experienced these difficulties."
   ]
  },
  {
   "cell_type": "markdown",
   "metadata": {},
   "source": [
    "# New Features"
   ]
  },
  {
   "cell_type": "markdown",
   "metadata": {},
   "source": [
    "We actually already created a new feature earlier in our analysis when we were looking at those borrowers who had at least 1 child.\n",
    "\n",
    "See section in Simple Statistics."
   ]
  },
  {
   "cell_type": "markdown",
   "metadata": {},
   "source": [
    "Another interesting derived feature might be to consider the loan amount as a percentage of the borrowers income."
   ]
  },
  {
   "cell_type": "code",
   "execution_count": 47,
   "metadata": {
    "collapsed": true
   },
   "outputs": [],
   "source": [
    "df['LOAN_PERCENT_OF_INCOME'] = (df['AMT_CREDIT'] / df['AMT_INCOME_TOTAL']) * 100"
   ]
  },
  {
   "cell_type": "code",
   "execution_count": 49,
   "metadata": {},
   "outputs": [
    {
     "data": {
      "text/plain": [
       "12840      0.480762\n",
       "203693     3.749981\n",
       "246858    10.374100\n",
       "77768     15.905900\n",
       "131127    11.716000\n",
       "Name: LOAN_PERCENT_OF_INCOME, dtype: float64"
      ]
     },
     "execution_count": 49,
     "metadata": {},
     "output_type": "execute_result"
    }
   ],
   "source": [
    "df['LOAN_PERCENT_OF_INCOME'].head()"
   ]
  },
  {
   "cell_type": "code",
   "execution_count": 51,
   "metadata": {},
   "outputs": [
    {
     "data": {
      "image/png": "[encoded data removed]",
      "text/plain": [
       "<matplotlib.figure.Figure at 0x13237b320>"
      ]
     },
     "metadata": {},
     "output_type": "display_data"
    }
   ],
   "source": [
    "plt.hist(df['LOAN_PERCENT_OF_INCOME'], log=False, bins='auto', histtype='bar')\n",
    "plt.xlabel(\"Bins of Loan Amount Percentages\")\n",
    "plt.ylabel('Number of Clients')\n",
    "plt.title('Loan Amount as Percentage of Income')\n",
    "plt.show()"
   ]
  },
  {
   "cell_type": "markdown",
   "metadata": {},
   "source": [
    "This feature might be useful to measure a client's confidence in paying back the loan based on their current annual income (holding many other things equal)."
   ]
  },
  {
   "cell_type": "markdown",
   "metadata": {},
   "source": [
    "# Exceptional Work"
   ]
  },
  {
   "cell_type": "markdown",
   "metadata": {},
   "source": [
    "# Data Exploration with PCA\n",
    "\n",
    "We explore the relationships between features using PCA below. Specifically, we want to know if there are certain correlations among features that allows us to reduce our dimensions by combining those features into 'composite' features along new axes (which represent the directions of maximum variance). A reduction of dimensions is not only useful for computational purposes, but it can also help prevent models we may want to train in the future from overfitting to the dataset (since PCA removes some of the noise in the data). This can be especially useful for models that are optimized algorithmically (such as the greedy algorithm inherent in many implementations of a random forest) or ones that don't have feature selection parameters (like the L1 norm) (Geron 2017).\n",
    "\n",
    "Since PCA should only be applied to quantitative variables (since the numerical difference between dummy-encoded categorical variables has no real meaning in terms of linear algebraic distance), we apply PCA to a subset of our data frame that contains only non-object data types. Our understanding of certain PCA concepts was helped through (Ramsey, 2013) and our manual implementation further below was assisted through (Raschka, 2017)."
   ]
  },
  {
   "cell_type": "code",
   "execution_count": null,
   "metadata": {
    "collapsed": true
   },
   "outputs": [],
   "source": [
    "# We call notebook twice to avoid a bug.\n",
    "%matplotlib notebook\n",
    "%matplotlib notebook\n",
    "import matplotlib.pyplot as plt"
   ]
  },
  {
   "cell_type": "code",
   "execution_count": null,
   "metadata": {},
   "outputs": [],
   "source": [
    "# Pull only non-categorical columns.\n",
    "dfX = df.loc[:,df.dtypes!=object]\n",
    "dfY = dfX['TARGET'] # pull out target variable\n",
    "\n",
    "# Drop ID and target from X.\n",
    "dfX = dfX.drop(['SK_ID_CURR','TARGET'], 1)\n",
    "\n",
    "# Show X columns.\n",
    "dfX.head()"
   ]
  },
  {
   "cell_type": "markdown",
   "metadata": {},
   "source": [
    "### PCA Computation\n",
    "\n",
    "We perform PCA using scikit-learn below. Before applying it, we standardize our features to have mean 0 and variance 1; this is necessary because PCA's computation of variance would give larger-scale features excessive influence on the transformation if they were not standardized.\n",
    "\n",
    "From the below output array, we see that the first five principal components combined explain only 27.7% of the total variation in the data, with the largest principal component explaining just 9.02% of the variance. The chart following that shows that we would require around 12 principal components to capture just 50% of the variance in the dataset."
   ]
  },
  {
   "cell_type": "code",
   "execution_count": null,
   "metadata": {},
   "outputs": [],
   "source": [
    "# Standardize the features in the dataframe (to mean zero and standard deviation 1).\n",
    "from sklearn.preprocessing import StandardScaler\n",
    "std_sc = StandardScaler() # instantiate the class\n",
    "dfX_std = std_sc.fit_transform(dfX) # transform the data\n",
    "\n",
    "from sklearn.decomposition import PCA\n",
    "pca = PCA()\n",
    "dfX_pca = pca.fit_transform(dfX_std)\n",
    "\n",
    "# The amount of variance explained from the first 5 principal components.\n",
    "print('Explained variance (first five PCs): ', pca.explained_variance_ratio_[0:5]/np.sum(pca.explained_variance_ratio_))\n"
   ]
  },
  {
   "cell_type": "code",
   "execution_count": null,
   "metadata": {},
   "outputs": [],
   "source": [
    "# Chart of cumulative variance explained for an increasing number of principal components included.\n",
    "plt.plot(np.cumsum(pca.explained_variance_ratio_))\n",
    "plt.xlabel('Number of Principal Components')\n",
    "plt.ylabel('Explained Variance')"
   ]
  },
  {
   "cell_type": "markdown",
   "metadata": {},
   "source": [
    "In order to increase our intuition about PCA, we also decided to implement PCA manually (using lower-level logic in place of the scikit-learn library). To do this, we performed the following steps.\n",
    "\n",
    "1. We used our standardized features (with mean 0 and standard deviation 1) to compute the covariance matrix. Since our mean is 0, we were able to apply a simple equation: (1/n-1) * np.dot(X.T, X) to compute the covariance matrix using vectorized logic. Note that n is the number of observations, and X is our features matrix with shape (number of observations, number of columns). Covariance formula adapted from (UCL 2018).\n",
    "\n",
    "\n",
    "2. We then extracted the eigenvalues and related eigenvectors using an eigendecomposition of the covariance matrix. We did this using a simple linear algebra function (since the eigendecomposition is somewhat complex).\n",
    "\n",
    "\n",
    "3. We sorted the eigenvalues (along with their related eigenvectors) in order from largest magnitude to smallest.\n",
    "\n",
    "\n",
    "4. We decided to look at the top three principal components, so we concatenated the top three eigenvectors (based on their eigenvalues) vertically into a matrix. This functions as our projection matrix with shape of (number of features, number of principal components).\n",
    "\n",
    "\n",
    "5. To obtain the principal components of an observation, we calculate the dot product between our observation and our projection matrix.\n"
   ]
  },
  {
   "cell_type": "code",
   "execution_count": null,
   "metadata": {
    "collapsed": true
   },
   "outputs": [],
   "source": [
    "# 1. Compute covariance matrix.\n",
    "cov = (1/(dfX_std.shape[0]-1)) * np.dot(dfX_std.T, dfX_std)\n",
    "\n",
    "# 2. Perform eigendecomposition on covariance matrix.\n",
    "eigenvals, eigenvecs = np.linalg.eig(cov)\n",
    "\n",
    "# 3. Sort the eigenvectors based on the largest eigvalues.\n",
    "eigenlist = [(eigenvals[i], eigenvecs[:, i]) for i in range(0, len(eigenvals))] # create a list of tuples of eigenvalue,\n",
    "    # eigenvector pairs.\n",
    "eigenlist.sort(key=lambda tup: tup[0], reverse=True) # sort the list\n",
    "\n",
    "# 4. Create the projection matrix of the top three eigenvectors. The projection matrix has shape (num features, num\n",
    "    # of principal components). We take the dot product between this and the feature matrix to get the principal\n",
    "    # components for each observation.\n",
    "proj_mat = (np.vstack((eigenlist[0][1], eigenlist[1][1], eigenlist[2][1]))).T\n",
    "\n",
    "# 5. Transform the observations.\n",
    "pca_vals = np.dot(dfX_std, proj_mat)"
   ]
  },
  {
   "cell_type": "markdown",
   "metadata": {},
   "source": [
    "The below shows the top three principal components for the first 10 observations (for both the scikit-learn and our manual implementation). Since these values are the same, this shows that our manual implementation of PCA is correct."
   ]
  },
  {
   "cell_type": "code",
   "execution_count": null,
   "metadata": {},
   "outputs": [],
   "source": [
    "print('Scikit PCA: ', dfX_pca[0:10,0:3], '\\nManual PCA: ', pca_vals[0:10])"
   ]
  },
  {
   "cell_type": "markdown",
   "metadata": {},
   "source": [
    "As mentioned at the beginning of the section, we would need to include about 12 principal components to capture just 50% of the variance in the dataset. Therefore, there is some doubt about whether a graph of our principal components will be able to separate out the two classes of our response variable (since we would only be able to plot 2-3 principal components at a time).\n",
    "\n",
    "Still, we go ahead and plot the data based on the values of the top two principal components only. Based on the below graph, it appears that the first two principal components are not enough to separate out the response class, as there is a lot of overlap between the two classes on these two principal components. Note that we plot only a small subset of our data (based on a stratified random sample) in order not to over-crowd the graph."
   ]
  },
  {
   "cell_type": "code",
   "execution_count": null,
   "metadata": {},
   "outputs": [],
   "source": [
    "# In order not to over-crowd our visualization, we take a stratified random sample of points to plot in our\n",
    "# visualization.\n",
    "from sklearn.model_selection import train_test_split\n",
    "visX_pca, otherX_pca, visY, otherY = train_test_split(dfX_pca, dfY, test_size=0.99, stratify=dfY, random_state=0)\n",
    "\n",
    "colors = ['blue', 'red']\n",
    "markers = ['x', 'o']\n",
    "for i, l in enumerate(np.unique(visY)):\n",
    "    plt.scatter(visX_pca[visY==l,0], visX_pca[visY==l,1], color=colors[i], marker=markers[i], alpha=0.6, label=l)\n",
    "plt.xlabel('PC 1')\n",
    "plt.xlabel('PC 2')\n",
    "plt.legend(loc='best')"
   ]
  },
  {
   "cell_type": "markdown",
   "metadata": {},
   "source": [
    "Since the top two principal components do not appear to be enough to separate out the two levels of the response variable, we go ahead and plot the third principal component in a three-dimensional plot below.\n",
    "\n",
    "Based on the below plot, it appears there's not much better separation between the classes of our response variable using three principal components."
   ]
  },
  {
   "cell_type": "code",
   "execution_count": null,
   "metadata": {},
   "outputs": [],
   "source": [
    "from mpl_toolkits.mplot3d import Axes3D\n",
    "fig = plt.figure()\n",
    "ax = fig.add_subplot(111, projection='3d')\n",
    "for l, c, m in zip(np.unique(visY), colors, markers):\n",
    "    ax.scatter(visX_pca[visY==l,0], visX_pca[visY==l,1], visX_pca[visY==l,2], color=c, marker=m, label=l)\n",
    "plt.xlabel('PC 1')\n",
    "plt.xlabel('PC 2')\n",
    "plt.legend(loc='best')"
   ]
  },
  {
   "cell_type": "markdown",
   "metadata": {},
   "source": [
    "### Kernel PCA"
   ]
  },
  {
   "cell_type": "markdown",
   "metadata": {},
   "source": [
    "As a next step, we could consider using LDA to perform dimensionality reduction just in case the two levels of our response variable are separated through features that do not have a high variance. That is, since PCA only looks at the variance of features without actually taking into account whether these high-variance features (or directions/axes) are actually useful for distinguishing the levels of our response variable (such as, if the features have different enough group means for the two groups/levels of our response variable), it is possible for us to have a more successful LDA.\n",
    "\n",
    "However, since our target response only has two levels (indicating we would be limited to using only a single linear discriminant or dimension), we instead opt to perform a kernel PCA (Raschka 2017). With kernel PCA, we're essentially first projecting our dataset into higher dimensional space (the opposite of dimensionality reduction) in hopes that the levels of our response variable might be better separated in higher dimensions (somewhat similar to how adding polynomial features can improve a linear regression model); and then we perform PCA on this higher-dimensional space to reduce it down to fewer dimensions that may be better separated than if we just performed a PCA on our original dataset.\n",
    "\n",
    "The term 'kernel' in kernel PCA references the fact that we're using a simple property of linear algebra that enables us to project into higher dimensions without actually having to transform our dataset by adding these additional features to it (Geron 2017). The reason this is important is because certain transformations add such a high number of features that it becomes computationally infeasible to perform without something like the kernel trick. As an example, the particular kernel we're using (RBF, for radial basis function) would actually require feature modifications that are equal to the number of observations in the dataset.\n",
    "\n",
    "Note that instead of fitting all of our observations, we use a stratified random sample (so as not to over-crowd the graph). It also helps speed up the kernel PCA fit since the process still has somewhat high computational complexity."
   ]
  },
  {
   "cell_type": "code",
   "execution_count": null,
   "metadata": {
    "collapsed": true
   },
   "outputs": [],
   "source": [
    "# We do a stratified random sample of our standardized dataset.\n",
    "from sklearn.model_selection import train_test_split\n",
    "kX, kX_other, kY, kY_other = train_test_split(dfX_std, dfY, test_size=0.99, stratify=dfY, random_state=0)\n",
    "\n",
    "# Apply kernel PCA.\n",
    "from sklearn.decomposition import KernelPCA\n",
    "kern_pca = KernelPCA(n_components=3, kernel='rbf', gamma=15)\n",
    "dfX_kernpca = kern_pca.fit_transform(kX)"
   ]
  },
  {
   "cell_type": "markdown",
   "metadata": {},
   "source": [
    "After plotting our three principal components using kernel PCA, the plot below actually shows some clear separation for some observations but then a great deal of overlap on a single coordinate for all of our other observations. We would therefore interpret this to mean that we would require more than three components from our kernel PCA to separate out the coordinate that is overlapping heavily.\n",
    "\n",
    "As a conclusion, our findings suggest that our dataset is complex enough that the levels of our class cannot be distinguished using only a few principal components. Therefore, future classification models that we might build would most likely require using a combination of quantitative and categorical variables to obtain high prediction accuracy.\n",
    "\n",
    "Of course, there is still a possibility of distinguishing out the levels of our class using more principal components (that is, more than can be graphed in a 3D plot); and since this method (if we do use more principal components) can still prevent overfitting and lead to improved prediction accuracy, we will revisit dimensionality reduction when fitting different models. Since this task was focused more on visualization (which for the most part is stuck in 2D/3D), we did not pursue an analytical view of dimensionality reduction, which could have looked at many more than 2-3 components at a time."
   ]
  },
  {
   "cell_type": "code",
   "execution_count": null,
   "metadata": {},
   "outputs": [],
   "source": [
    "# Plot the principal components.\n",
    "fig = plt.figure()\n",
    "ax = fig.add_subplot(111, projection='3d')\n",
    "for l, c, m in zip(np.unique(visY), colors, markers):\n",
    "    ax.scatter(dfX_kernpca[kY==l,0], dfX_kernpca[kY==l,1], dfX_kernpca[kY==l,2], color=c, marker=m, label=l)\n",
    "plt.xlabel('PC 1')\n",
    "plt.xlabel('PC 2')\n",
    "plt.legend(loc='best')"
   ]
  },
  {
   "cell_type": "markdown",
   "metadata": {},
   "source": [
    "# References\n",
    "\n",
    "Geron, Aurelien. Hands-On Machine Learning with Sciki-Learn & TensorFlow. O'Reilly Media, Inc. 2017.\n",
    "\n",
    "Ramsey, Fred L. & Schafer, Daniel W. The Statistical Sleuth: A Course in Methods of Data Analysis. Brooks/Cole, Cengage Learning. 2013. Third Edition.\n",
    "\n",
    "Raschka, Sebastian & Mirjalili, Vahid. Python Machine Learning. Packt Publishing. 2017. 2nd Edition.\n",
    "\n",
    "UCL. (2018). Retrieved from https://www.fil.ion.ucl.ac.uk/~wpenny/course/matrices.pdf"
   ]
  }
 ],
 "metadata": {
  "kernelspec": {
   "display_name": "Python 3",
   "language": "python",
   "name": "python3"
  },
  "language_info": {
   "codemirror_mode": {
    "name": "ipython",
    "version": 3
   },
   "file_extension": ".py",
   "mimetype": "text/x-python",
   "name": "python",
   "nbconvert_exporter": "python",
   "pygments_lexer": "ipython3",
   "version": "3.6.1"
  }
 },
 "nbformat": 4,
 "nbformat_minor": 2
}
